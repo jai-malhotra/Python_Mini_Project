{
 "cells": [
  {
   "cell_type": "markdown",
   "id": "02086ed5",
   "metadata": {},
   "source": [
    "# Fast Track Courier Company"
   ]
  },
  {
   "cell_type": "markdown",
   "id": "a3ee6ba9",
   "metadata": {},
   "source": [
    "## Information of Shipments"
   ]
  },
  {
   "cell_type": "code",
   "execution_count": 6,
   "id": "09f015ac",
   "metadata": {},
   "outputs": [
    {
     "data": {
      "text/plain": [
       "{101: [1, 3, '14-03-2020', '25-03-2020', 'Area1', 'Area6', 'Delivered', 198],\n",
       " 102: [4, 1, '18-06-2020', '09-07-2020', 'Area2', 'Area4', 'Delivered', 275],\n",
       " 103: [2, 3, '01-12-2020', 'Null', 'Area5', 'Area1', 'In-Transit', 200],\n",
       " 104: [1, 5, '23-06-2020', '25-06-2020', 'Area1', 'Area4', 'Delivered', 314],\n",
       " 105: [3, 4, '29-08-2020', '10-09-2020', 'Area5', 'Area3', 'Delivered', 275],\n",
       " 106: [5, 2, '28-06-2020', 'Null', 'Area3', 'Area1', 'In-Transit', 270]}"
      ]
     },
     "execution_count": 6,
     "metadata": {},
     "output_type": "execute_result"
    }
   ],
   "source": [
    "shipmentinfo = {101:[1,3,'14-03-2020','25-03-2020','Area1','Area6','Delivered',198]\n",
    "               ,102:[4,1,'18-06-2020','09-07-2020','Area2','Area4','Delivered',275]\n",
    "               ,103:[2,3,'01-12-2020','Null','Area5','Area1','In-Transit',200]\n",
    "               ,104:[1,5,'23-06-2020','25-06-2020','Area1','Area4','Delivered',314]\n",
    "               ,105:[3,4,'29-08-2020','10-09-2020','Area5','Area3','Delivered',275]\n",
    "               ,106:[5,2,'28-06-2020','Null','Area3','Area1','In-Transit',270]}\n",
    "\n",
    "# Order of details inside the lists:\n",
    "# [Sender, Receiver, Start Date, Delivery Date, Sender Location, Receiver Location, Delivery Status, Shipping Cost]\n",
    "\n",
    "shipmentinfo"
   ]
  },
  {
   "cell_type": "markdown",
   "id": "03decd6c",
   "metadata": {},
   "source": [
    "## Information of Clients"
   ]
  },
  {
   "cell_type": "code",
   "execution_count": 3,
   "id": "d489833b",
   "metadata": {},
   "outputs": [
    {
     "name": "stdout",
     "output_type": "stream",
     "text": [
      "Client Name corresponding to Client ID: {1: 'Phillip', 2: 'Omega III', 3: 'Ramya', 4: 'Romesh', 5: 'John'}\n"
     ]
    }
   ],
   "source": [
    "clientinfo = {1:'Phillip', 2:'Omega III', 3:'Ramya', 4:'Romesh', 5:'John'}\n",
    "\n",
    "print(\"Client Name corresponding to Client ID:\", clientinfo)"
   ]
  },
  {
   "cell_type": "markdown",
   "id": "1b531640",
   "metadata": {},
   "source": [
    "### Replacing Client ID with Client Names in Shipment Dictionary"
   ]
  },
  {
   "cell_type": "code",
   "execution_count": 38,
   "id": "22c802ad",
   "metadata": {},
   "outputs": [],
   "source": [
    "# for i in shipmentinfo:                                                    # Replacing using loops\n",
    "#     for j in clientinfo:\n",
    "#         if j in shipmentinfo[i]:\n",
    "#             shipmentinfo[i][shipmentinfo[i].index(j)] = clientinfo[j]"
   ]
  },
  {
   "cell_type": "code",
   "execution_count": 39,
   "id": "5849f9b5",
   "metadata": {},
   "outputs": [
    {
     "name": "stdout",
     "output_type": "stream",
     "text": [
      "Dictionary after replacing Client IDs with Names:\n",
      " {101: ['Phillip', 'Ramya', '14-03-2020', '25-03-2020', 'Area1', 'Area6', 'Delivered', 198], 102: ['Romesh', 'Phillip', '18-06-2020', '09-07-2020', 'Area2', 'Area4', 'Delivered', 275], 103: ['Omega III', 'Ramya', '01-12-2020', 'Null', 'Area5', 'Area1', 'In-Transit', 200], 104: ['Phillip', 'John', '23-06-2020', '25-06-2020', 'Area1', 'Area4', 'Delivered', 314], 105: ['Ramya', 'Romesh', '29-08-2020', '10-09-2020', 'Area5', 'Area3', 'Delivered', 275], 106: ['John', 'Omega III', '28-06-2020', 'Null', 'Area3', 'Area1', 'In-Transit', 270]}\n"
     ]
    }
   ],
   "source": [
    "x = list(clientinfo.keys())                                                # Replacing using dictionary comprehension\n",
    "shipmentinfo = {k: [clientinfo.get(x,x) for x in v] for k,v in shipmentinfo.items()}\n",
    "\n",
    "print(\"Dictionary after replacing Client IDs with Names:\\n\", shipmentinfo)"
   ]
  },
  {
   "cell_type": "markdown",
   "id": "f7d2f2e9",
   "metadata": {},
   "source": [
    "### Shipment Details sent by Phillip"
   ]
  },
  {
   "cell_type": "code",
   "execution_count": 25,
   "id": "60b05cca",
   "metadata": {},
   "outputs": [
    {
     "name": "stdout",
     "output_type": "stream",
     "text": [
      "Details of all shipments sent by Phillip:\n",
      "Shipment ID 101 : ['Phillip', 'Ramya', '14-03-2020', '25-03-2020', 'Area1', 'Area6', 'Delivered', 198]\n",
      "Shipment ID 104 : ['Phillip', 'John', '23-06-2020', '25-06-2020', 'Area1', 'Area4', 'Delivered', 314]\n"
     ]
    }
   ],
   "source": [
    "print(\"Details of all shipments sent by Phillip:\")\n",
    "for i in shipmentinfo:\n",
    "    if shipmentinfo[i][0] == 'Phillip':\n",
    "        print(\"Shipment ID\",i,':',shipmentinfo[i])"
   ]
  },
  {
   "cell_type": "markdown",
   "id": "c615a9a1",
   "metadata": {},
   "source": [
    "### Shipment Details received by Ramya"
   ]
  },
  {
   "cell_type": "code",
   "execution_count": 26,
   "id": "be785a01",
   "metadata": {},
   "outputs": [
    {
     "name": "stdout",
     "output_type": "stream",
     "text": [
      "Details of all shipments received by Ramya:\n",
      "Shipment ID 101 : ['Phillip', 'Ramya', '14-03-2020', '25-03-2020', 'Area1', 'Area6', 'Delivered', 198]\n",
      "Shipment ID 103 : ['Omega III', 'Ramya', '01-12-2020', 'Null', 'Area5', 'Area1', 'In-Transit', 200]\n"
     ]
    }
   ],
   "source": [
    "print(\"Details of all shipments received by Ramya:\")\n",
    "for j in shipmentinfo:\n",
    "    if shipmentinfo[j][1] == 'Ramya':\n",
    "        print(\"Shipment ID\",j,':',shipmentinfo[j])"
   ]
  },
  {
   "cell_type": "markdown",
   "id": "5cce79d0",
   "metadata": {},
   "source": [
    "### Shipments In-Transit"
   ]
  },
  {
   "cell_type": "code",
   "execution_count": 27,
   "id": "8758814c",
   "metadata": {},
   "outputs": [
    {
     "name": "stdout",
     "output_type": "stream",
     "text": [
      "Details of all shipments In-Transit:\n",
      "Shipment ID 103 : ['Omega III', 'Ramya', '01-12-2020', 'Null', 'Area5', 'Area1', 'In-Transit', 200]\n",
      "Shipment ID 106 : ['John', 'Omega III', '28-06-2020', 'Null', 'Area3', 'Area1', 'In-Transit', 270]\n"
     ]
    }
   ],
   "source": [
    "print(\"Details of all shipments In-Transit:\")\n",
    "for x,y in shipmentinfo.items():\n",
    "    if 'In-Transit' in y:\n",
    "        print(\"Shipment ID\",x,':',y)"
   ]
  },
  {
   "cell_type": "markdown",
   "id": "65e7bb78",
   "metadata": {},
   "source": [
    "### Shipments delivered within 7 days"
   ]
  },
  {
   "cell_type": "code",
   "execution_count": 35,
   "id": "aba52263",
   "metadata": {},
   "outputs": [],
   "source": [
    "# print(\"Details of shipment(s) delivered within 7 days:\")\n",
    "\n",
    "# for a,b in shipmentinfo.items():\n",
    "#     if (b[3] != 'Null'):                                       # To check if the goods have been delivered\n",
    "#         if (int(b[2][3:5]) == int(b[3][3:5])):                 # If the months of start and delivery date are same\n",
    "#             if (int(b[3][0:2])-int(b[2][0:2]) < 7):            # If difference of days is less than 7\n",
    "#                 print(\"Shipment ID\",a,':',b)  # Code till here is sufficient for the question. Rest of the code is for other possible conditions\n",
    "#         elif (int(b[2][3:5]) != int(b[3][3:5])):               # If the months of start and delivery date are different\n",
    "#             if (int(b[2][3:5]) in [1,3,5,7,8,10,12]):          # If the month of start date has 31 days\n",
    "#                 if (((31-int(b[2][0:2]))+int(b[3][0:2])) < 7): # If total days taken to deliver are less than 7\n",
    "#                     print(\"Shipment ID\",a,':',b)\n",
    "#             elif (int(b[2][3:5]) in [4,6,9,11]):               # If the month of start date has 30 days\n",
    "#                 if (((30-int(b[2][0:2]))+int(b[3][0:2])) < 7): # If total days taken to deliver are less than 7\n",
    "#                     print(\"Shipment ID\",a,':',b)\n",
    "#             elif int(b[2][3:5]) == 2:                            # If the month of start date is February. Optional code because all deliveries happened after february\n",
    "#                 if (((29-int(b[2][0:2]))+int(b[3][0:2])) < 7): # 29 days because all deliveries happened in 2020 (leap year)\n",
    "#                     print(\"Shipment ID\",a,':',b)"
   ]
  },
  {
   "cell_type": "code",
   "execution_count": 36,
   "id": "23bae0bb",
   "metadata": {},
   "outputs": [
    {
     "name": "stdout",
     "output_type": "stream",
     "text": [
      "Details of shipment(s) delivered within 7 days:\n",
      "Shipment ID 104 : ['Phillip', 'John', '23-06-2020', '25-06-2020', 'Area1', 'Area4', 'Delivered', 314]\n"
     ]
    }
   ],
   "source": [
    "# Shorter way:\n",
    "print(\"Details of shipment(s) delivered within 7 days:\")\n",
    "import datetime as dt\n",
    "\n",
    "for i,j in shipmentinfo.items():\n",
    "    if (j[3] != 'Null'):\n",
    "        start = dt.datetime.strptime(j[2], \"%d-%m-%Y\")\n",
    "        end = dt.datetime.strptime(j[3], \"%d-%m-%Y\")\n",
    "        if (end-start) < dt.timedelta(days = 7):\n",
    "            print(\"Shipment ID\",i,':',j)"
   ]
  },
  {
   "cell_type": "markdown",
   "id": "b172f4b3",
   "metadata": {},
   "source": [
    "### Shipments delivered after 15 days or not yet delivered"
   ]
  },
  {
   "cell_type": "code",
   "execution_count": 33,
   "id": "e75ebb0e",
   "metadata": {},
   "outputs": [
    {
     "name": "stdout",
     "output_type": "stream",
     "text": [
      "Details of shipment(s) delivered after 15 days or not yet delivered:\n",
      "Shipment ID 102 : ['Romesh', 'Phillip', '18-06-2020', '09-07-2020', 'Area2', 'Area4', 'Delivered', 275]\n",
      "Shipment ID 103 : ['Omega III', 'Ramya', '01-12-2020', 'Null', 'Area5', 'Area1', 'In-Transit', 200]\n",
      "Shipment ID 106 : ['John', 'Omega III', '28-06-2020', 'Null', 'Area3', 'Area1', 'In-Transit', 270]\n"
     ]
    }
   ],
   "source": [
    "# print(\"Details of shipment(s) delivered after 15 days or not yet delivered:\")\n",
    "\n",
    "# for a,b in shipmentinfo.items():\n",
    "#     if (b[3] != 'Null'):                                         # Same logic as the previous question with some changes\n",
    "#         if (int(b[2][3:5]) == int(b[3][3:5])):\n",
    "#             if (int(b[3][0:2])-int(b[2][0:2]) > 15):\n",
    "#                 print(\"Shipment ID\",a,':',b)\n",
    "#         elif (int(b[2][3:5]) != int(b[3][3:5])):\n",
    "#             if (int(b[2][3:5]) in [1,3,5,7,8,10,12]):\n",
    "#                 if (((31-int(b[2][0:2]))+int(b[3][0:2])) > 15):\n",
    "#                     print(\"Shipment ID\",a,':',b)\n",
    "#             elif (int(b[2][3:5]) in [4,6,9,11]):\n",
    "#                 if (((30-int(b[2][0:2]))+int(b[3][0:2])) > 15):\n",
    "#                     print(\"Shipment ID\",a,':',b)\n",
    "#             elif int(b[2][3:5]) == 2:\n",
    "#                 if (((29-int(b[2][0:2]))+int(b[3][0:2])) > 15):\n",
    "#                     print(\"Shipment ID\",a,':',b)\n",
    "#     elif ('In-Transit' in b):\n",
    "#         print(\"Shipment ID\",a,':',b)"
   ]
  },
  {
   "cell_type": "code",
   "execution_count": 37,
   "id": "1fbd548a",
   "metadata": {},
   "outputs": [
    {
     "name": "stdout",
     "output_type": "stream",
     "text": [
      "Details of shipment(s) delivered after 15 days or not yet delivered:\n",
      "Shipment ID 102 : ['Romesh', 'Phillip', '18-06-2020', '09-07-2020', 'Area2', 'Area4', 'Delivered', 275]\n",
      "Shipment ID 103 : ['Omega III', 'Ramya', '01-12-2020', 'Null', 'Area5', 'Area1', 'In-Transit', 200]\n",
      "Shipment ID 106 : ['John', 'Omega III', '28-06-2020', 'Null', 'Area3', 'Area1', 'In-Transit', 270]\n"
     ]
    }
   ],
   "source": [
    "# Shorter way:\n",
    "print(\"Details of shipment(s) delivered after 15 days or not yet delivered:\")\n",
    "for i,j in shipmentinfo.items():\n",
    "    if (j[3] == 'Null'):\n",
    "        print(\"Shipment ID\",i,':',j)\n",
    "    else:\n",
    "        start = dt.datetime.strptime(j[2], \"%d-%m-%Y\")\n",
    "        end = dt.datetime.strptime(j[3], \"%d-%m-%Y\")\n",
    "        if (end-start) > dt.timedelta(days = 15):\n",
    "            print(\"Shipment ID\",i,':',j)"
   ]
  },
  {
   "cell_type": "markdown",
   "id": "9f1448ae",
   "metadata": {},
   "source": [
    "### All possible routes from Sender's location to Receiver's location"
   ]
  },
  {
   "cell_type": "code",
   "execution_count": 41,
   "id": "2d5da575",
   "metadata": {},
   "outputs": [
    {
     "name": "stdout",
     "output_type": "stream",
     "text": [
      "Shipment ID: 101\n",
      "Sender's Location: 1\n",
      "Receiver's Location: 6\n",
      "All possible routes:\n",
      "[1, 6]\n",
      "--------------------------------------------------\n",
      "Shipment ID: 102\n",
      "Sender's Location: 2\n",
      "Receiver's Location: 4\n",
      "All possible routes:\n",
      "[2, 3, 4]\n",
      "[2, 4]\n",
      "--------------------------------------------------\n",
      "Shipment ID: 103\n",
      "Sender's Location: 5\n",
      "Receiver's Location: 1\n",
      "All possible routes:\n",
      "[5, 4, 2, 1]\n",
      "[5, 4, 3, 2, 1]\n",
      "--------------------------------------------------\n",
      "Shipment ID: 104\n",
      "Sender's Location: 1\n",
      "Receiver's Location: 4\n",
      "All possible routes:\n",
      "[1, 2, 3, 4]\n",
      "[1, 2, 4]\n",
      "--------------------------------------------------\n",
      "Shipment ID: 105\n",
      "Sender's Location: 5\n",
      "Receiver's Location: 3\n",
      "All possible routes:\n",
      "[5, 4, 2, 3]\n",
      "[5, 4, 3]\n",
      "--------------------------------------------------\n",
      "Shipment ID: 106\n",
      "Sender's Location: 3\n",
      "Receiver's Location: 1\n",
      "All possible routes:\n",
      "[3, 2, 1]\n",
      "[3, 4, 2, 1]\n",
      "--------------------------------------------------\n"
     ]
    }
   ],
   "source": [
    "def find_all_routes(matrix,c,d,visited,route):\n",
    "    visited[c] = True\n",
    "    route.append(c+1)\n",
    "    if c == d:\n",
    "        print(route)\n",
    "    else:\n",
    "        for i in range(6):\n",
    "            if matrix[c][i] == 1 and (visited[i] == False):\n",
    "                find_all_routes(matrix,i,d,visited,route)\n",
    "    route.pop()\n",
    "    visited[c] = False\n",
    "    \n",
    "matrix = [[0,1,0,0,0,1],[1,0,1,1,0,0],[0,1,0,1,0,0],[0,1,1,0,1,0],[0,0,0,1,0,0],[1,0,0,0,0,0]]\n",
    "visited = [False for i in range(6)]\n",
    "route = []\n",
    "\n",
    "def show_all(shipmentinfo):\n",
    "    for i,j in shipmentinfo.items():\n",
    "        print(\"Shipment ID:\",i)\n",
    "        s = int(j[4][-1])\n",
    "        print(\"Sender's Location:\",s)\n",
    "        r = int(j[5][-1])\n",
    "        print(\"Receiver's Location:\",r)\n",
    "        print(\"All possible routes:\")\n",
    "        find_all_routes(matrix,s-1,r-1,visited,route)\n",
    "        print('-'*50)\n",
    "        \n",
    "show_all(shipmentinfo)"
   ]
  },
  {
   "cell_type": "code",
   "execution_count": null,
   "id": "7e82fab1",
   "metadata": {},
   "outputs": [],
   "source": []
  }
 ],
 "metadata": {
  "kernelspec": {
   "display_name": "Python 3",
   "language": "python",
   "name": "python3"
  },
  "language_info": {
   "codemirror_mode": {
    "name": "ipython",
    "version": 3
   },
   "file_extension": ".py",
   "mimetype": "text/x-python",
   "name": "python",
   "nbconvert_exporter": "python",
   "pygments_lexer": "ipython3",
   "version": "3.8.8"
  }
 },
 "nbformat": 4,
 "nbformat_minor": 5
}
